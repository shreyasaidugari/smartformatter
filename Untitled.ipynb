{
 "cells": [
  {
   "cell_type": "code",
   "execution_count": null,
   "id": "d361633a-215b-49f9-91dd-7949bcd3a32b",
   "metadata": {},
   "outputs": [],
   "source": [
    "%%writefile __init__.py\n",
    "from .core import formate_name, formate_currency, number_to_words, slugify"
   ]
  },
  {
   "cell_type": "code",
   "execution_count": 1,
   "id": "8f9bb22b-cce9-4bcf-9c44-f44b04f10686",
   "metadata": {},
   "outputs": [
    {
     "data": {
      "text/plain": [
       "'C:\\\\Users\\\\shreya\\\\smartformatter'"
      ]
     },
     "execution_count": 1,
     "metadata": {},
     "output_type": "execute_result"
    }
   ],
   "source": [
    "import os\n",
    "os.getcwd()"
   ]
  },
  {
   "cell_type": "code",
   "execution_count": null,
   "id": "d09763c9-98a7-4cc7-bbe9-e38bc5bde2e9",
   "metadata": {},
   "outputs": [],
   "source": []
  }
 ],
 "metadata": {
  "kernelspec": {
   "display_name": "Python [conda env:base] *",
   "language": "python",
   "name": "conda-base-py"
  },
  "language_info": {
   "codemirror_mode": {
    "name": "ipython",
    "version": 3
   },
   "file_extension": ".py",
   "mimetype": "text/x-python",
   "name": "python",
   "nbconvert_exporter": "python",
   "pygments_lexer": "ipython3",
   "version": "3.12.7"
  }
 },
 "nbformat": 4,
 "nbformat_minor": 5
}
